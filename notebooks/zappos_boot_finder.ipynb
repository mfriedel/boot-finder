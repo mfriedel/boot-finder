{
  "nbformat": 4,
  "nbformat_minor": 0,
  "metadata": {
    "colab": {
      "name": "zappos_boot_finder.ipynb",
      "version": "0.3.2",
      "provenance": []
    },
    "kernelspec": {
      "name": "python3",
      "display_name": "Python 3"
    },
    "accelerator": "GPU"
  },
  "cells": [
    {
      "cell_type": "code",
      "metadata": {
        "id": "iyq_H2_yMxIz",
        "colab_type": "code",
        "colab": {}
      },
      "source": [
        "# Install libraries - you might need to restart the runtime after doing this\n",
        "!pip install turicreate==5.6\n",
        "# The wrong version of mxnet will be installed\n",
        "!pip uninstall -y mxnet\n",
        "# Install CUDA10-compatible version of mxnet\n",
        "!pip install mxnet-cu100\n",
        "# install Skafos python sdk\n",
        "!pip install skafos"
      ],
      "execution_count": 0,
      "outputs": []
    },
    {
      "cell_type": "code",
      "metadata": {
        "id": "ra4ziZk2NjkY",
        "colab_type": "code",
        "colab": {}
      },
      "source": [
        "# Import necessary libraries\n",
        "import os\n",
        "import urllib\n",
        "\n",
        "import coremltools \n",
        "import turicreate as tc\n",
        "import pandas as pd\n",
        "import numpy as np\n",
        "from s3fs.core import S3FileSystem"
      ],
      "execution_count": 0,
      "outputs": []
    },
    {
      "cell_type": "code",
      "metadata": {
        "id": "8C1jZQvZN6XF",
        "colab_type": "code",
        "colab": {}
      },
      "source": [
        "# Set AWS environment variables. There is a better way to do this using Google Drive. \n",
        "# Deleting for now so private keys aren't in the notebook. "
      ],
      "execution_count": 0,
      "outputs": []
    },
    {
      "cell_type": "code",
      "metadata": {
        "id": "3X1qohufON_a",
        "colab_type": "code",
        "colab": {}
      },
      "source": [
        "# Get latest version of data and json from S3 bucket\n",
        "# For now, this is so I can put together a model to go with the existing data\n",
        "# Logic needs to be in place to find latest directory--this hard coding will go away\n",
        "\n",
        "#Pull in boot images from S3 \n",
        "_local_dir = 'boot_images'\n",
        "\n",
        "if not os.path.exists(_local_dir):\n",
        "    os.makedirs(_local_dir)\n",
        "\n",
        "# Connect to S3\n",
        "s3 = S3FileSystem(anon=False)\n",
        "\n",
        "# Bring in boot data\n",
        "boots = s3.ls(\"s3://skafos.bootfinder/20190703202949/boot_images/\")\n",
        "        \n",
        "# Loop over the image paths, adding them to the SFrames\n",
        "for b in boots: \n",
        "    _local_file = \"/\".join(b.split(\"/\")[-1:])\n",
        "    _local_path = _local_dir + \"/\" + _local_file\n",
        "    s3.get(\"s3://\" + b, _local_path) # download the image\n",
        "    #print(\"Downloaded:\" + str(b))"
      ],
      "execution_count": 0,
      "outputs": []
    },
    {
      "cell_type": "code",
      "metadata": {
        "id": "MD_TbNCwRvOJ",
        "colab_type": "code",
        "colab": {}
      },
      "source": [
        "# Read in metadata and convert to SFrame\n",
        "json_path = \"s3://skafos.bootfinder/20190703202949/boots_meta_data.json\"\n",
        "df = pd.read_json(json_path, orient=\"index\")\n",
        "df[\"image_id\"] =  df.index\n",
        "meta_sf = tc.SFrame(df)"
      ],
      "execution_count": 0,
      "outputs": []
    },
    {
      "cell_type": "code",
      "metadata": {
        "id": "OZJjV_WIeL-g",
        "colab_type": "code",
        "colab": {}
      },
      "source": [
        "# Read in boot data into SFrame and join with metadata\n",
        "boot_data  = tc.image_analysis.load_images('boot_images')\n",
        "boot_data[\"image_id\"] = boot_data['path'].apply(lambda x: x.split(\"/\")[-2:][1])\n",
        "boot_data = boot_data.join(meta_sf, on=[\"image_id\"], how=\"left\")\n",
        "boot_data = boot_data.add_row_number()"
      ],
      "execution_count": 0,
      "outputs": []
    },
    {
      "cell_type": "code",
      "metadata": {
        "id": "6Y0SOZFBhlab",
        "colab_type": "code",
        "colab": {}
      },
      "source": [
        "# Build image similarity model using SqueezeNet, as it is smaller than Resnet\n",
        "model = tc.image_similarity.create(boot_data, model=\"squeezenet_v1.1\")"
      ],
      "execution_count": 0,
      "outputs": []
    },
    {
      "cell_type": "code",
      "metadata": {
        "id": "rd6frFhD2MF1",
        "colab_type": "code",
        "colab": {}
      },
      "source": [
        "# Specify the CoreML model name and export\n",
        "model_name = 'ImageSimilarity'\n",
        "coreml_model_name = model_name + '.mlmodel'\n",
        "\n",
        "# Export the trained model to CoreML format\n",
        "res = model.export_coreml(coreml_model_name)"
      ],
      "execution_count": 0,
      "outputs": []
    }
  ]
}
