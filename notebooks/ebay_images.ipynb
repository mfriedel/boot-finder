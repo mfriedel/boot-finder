{
 "cells": [
  {
   "cell_type": "markdown",
   "metadata": {},
   "source": [
    "### eBay API"
   ]
  },
  {
   "cell_type": "code",
   "execution_count": null,
   "metadata": {},
   "outputs": [],
   "source": [
    "import urllib\n",
    "import os\n",
    "import json\n",
    "\n",
    "import coremltools \n",
    "import turicreate as tc\n",
    "import pandas as pd\n",
    "from s3fs.core import S3FileSystem"
   ]
  },
  {
   "cell_type": "code",
   "execution_count": null,
   "metadata": {},
   "outputs": [],
   "source": [
    "s3 = S3FileSystem(anon=True)\n",
    "json_path = \"s3://mf.testing.bucket/Boots/ebay_boots.json\"\n",
    "\n",
    "df = pd.read_json(json_path)"
   ]
  },
  {
   "cell_type": "code",
   "execution_count": null,
   "metadata": {},
   "outputs": [],
   "source": [
    "#components = pd.DataFrame.from_dict(df.itemSummaries)\n",
    "\n",
    "#components = df.itemSummaries.apply(json.loads).values.tolist()\n",
    "components_df = pd.DataFrame.from_records(df.itemSummaries)\n",
    "\n",
    "components_df.head()"
   ]
  },
  {
   "cell_type": "code",
   "execution_count": null,
   "metadata": {},
   "outputs": [],
   "source": [
    "ebay_metadata = pd.DataFrame()\n",
    "ebay_metadata['thumb_image'] = pd.DataFrame.from_records(components_df.image)['imageUrl']\n",
    "ebay_metadata['price'] = pd.DataFrame.from_records(components_df.price)['value']\n",
    "ebay_metadata['url'] = components_df.itemWebUrl\n",
    "ebay_metadata['Description'] = components_df.title\n",
    "ebay_metadata['path'] = ebay_metadata['thumb_image'].apply(lambda x: 'BootImages/' + x.split(\"/\")[-2] + x.split(\"/\")[-1])\n",
    "ebay_metadata['Image Name'] = ebay_metadata['thumb_image'].apply(lambda x: x.split(\"/\")[-2] + x.split(\"/\")[-1])"
   ]
  },
  {
   "cell_type": "code",
   "execution_count": null,
   "metadata": {},
   "outputs": [],
   "source": [
    "for index, row in ebay_metadata.iterrows():\n",
    "    urllib.request.urlretrieve(row['thumb_image'], row['path'])"
   ]
  },
  {
   "cell_type": "code",
   "execution_count": null,
   "metadata": {},
   "outputs": [],
   "source": [
    "ebay_metadata.head()"
   ]
  },
  {
   "cell_type": "code",
   "execution_count": null,
   "metadata": {},
   "outputs": [],
   "source": []
  }
 ],
 "metadata": {
  "kernelspec": {
   "display_name": "Python 3",
   "language": "python",
   "name": "python3"
  },
  "language_info": {
   "codemirror_mode": {
    "name": "ipython",
    "version": 3
   },
   "file_extension": ".py",
   "mimetype": "text/x-python",
   "name": "python",
   "nbconvert_exporter": "python",
   "pygments_lexer": "ipython3",
   "version": "3.6.5"
  }
 },
 "nbformat": 4,
 "nbformat_minor": 2
}
