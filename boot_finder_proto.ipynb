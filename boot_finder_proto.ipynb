{
 "cells": [
  {
   "cell_type": "markdown",
   "metadata": {},
   "source": [
    "### Boot Finder "
   ]
  },
  {
   "cell_type": "code",
   "execution_count": 1,
   "metadata": {},
   "outputs": [
    {
     "name": "stdout",
     "output_type": "stream",
     "text": [
      "Checking and installing required python dependencies in requirements.txt\n",
      "Done\n"
     ]
    }
   ],
   "source": [
    "# If this is your first time in the JupyterLab workspace - install external dependencies\n",
    "from utilities.dependencies import install\n",
    "install(timeout=500)\n",
    "\n",
    "# No need to do this in the future for this notebook"
   ]
  },
  {
   "cell_type": "code",
   "execution_count": 2,
   "metadata": {},
   "outputs": [],
   "source": [
    "# Import necessary libraries\n",
    "import os\n",
    "\n",
    "import coremltools \n",
    "from skafossdk import *\n",
    "import turicreate as tc\n",
    "import pandas as pd\n",
    "from s3fs.core import S3FileSystem"
   ]
  },
  {
   "cell_type": "code",
   "execution_count": 3,
   "metadata": {},
   "outputs": [],
   "source": [
    "# Initialize Skafos\n",
    "ska = Skafos()"
   ]
  },
  {
   "cell_type": "code",
   "execution_count": 4,
   "metadata": {},
   "outputs": [
    {
     "name": "stdout",
     "output_type": "stream",
     "text": [
      "BootImages/IMG_3434.JPG\n",
      "BootImages/IMG_3435.JPG\n",
      "BootImages/black-uggs1.jpg\n",
      "BootImages/black-uggs2.jpg\n",
      "BootImages/black-uggs3.jpg\n",
      "BootImages/dansko-brown1.jpg\n",
      "BootImages/dansko-brown2.jpg\n",
      "BootImages/dansko-brown3.jpg\n",
      "BootImages/frye-brown-canvas1.jpg\n",
      "BootImages/frye-brown-canvas2.jpg\n",
      "BootImages/frye-brown-canvas3.jpg\n",
      "BootImages/nwob-plume1.jpg\n",
      "BootImages/nwob-plume2.jpg\n",
      "BootImages/nwob-plume3.jpg\n"
     ]
    }
   ],
   "source": [
    "#Pull in boot images from S3 \n",
    "_local_dir = 'BootImages'\n",
    "\n",
    "if not os.path.exists(_local_dir):\n",
    "    os.makedirs(_local_dir)\n",
    "\n",
    "# Connect to S3\n",
    "s3 = S3FileSystem(anon=True)\n",
    "\n",
    "# Bring in boot data\n",
    "boots = s3.ls(\"s3://mf.testing.bucket/Boots/Images/\")\n",
    "        \n",
    "# Loop over the image paths, adding them to the SFrames\n",
    "for b in boots: \n",
    "    _local_file = \"/\".join(b.split(\"/\")[-1:])\n",
    "    _local_path = _local_dir + \"/\" + _local_file\n",
    "    print(_local_path)\n",
    "    s3.get(\"s3://\" + b, _local_path) # download the image"
   ]
  },
  {
   "cell_type": "code",
   "execution_count": 5,
   "metadata": {},
   "outputs": [
    {
     "name": "stdout",
     "output_type": "stream",
     "text": [
      "BootMetadata_20190302.csv\n"
     ]
    }
   ],
   "source": [
    "# Pull in boot metadata\n",
    "csv = \"s3://mf.testing.bucket/Boots/BootMetadata_20190302.csv\"\n",
    "print(\"/\".join(csv.split(\"/\")[-1:]))\n",
    "s3.get(csv, \"/\".join(csv.split(\"/\")[-1:]))"
   ]
  },
  {
   "cell_type": "code",
   "execution_count": 6,
   "metadata": {},
   "outputs": [
    {
     "data": {
      "text/html": [
       "<pre>Finished parsing file /home/jovyan/BootMetadata_20190302.csv</pre>"
      ],
      "text/plain": [
       "Finished parsing file /home/jovyan/BootMetadata_20190302.csv"
      ]
     },
     "metadata": {},
     "output_type": "display_data"
    },
    {
     "name": "stdout",
     "output_type": "stream",
     "text": [
      "------------------------------------------------------\n",
      "Inferred types from first 100 line(s) of file as \n",
      "column_type_hints=[str,str]\n",
      "If parsing fails due to incorrect types, you can correct\n",
      "the inferred type list above and pass it to read_csv in\n",
      "the column_type_hints argument\n",
      "------------------------------------------------------\n"
     ]
    },
    {
     "data": {
      "text/html": [
       "<pre>Parsing completed. Parsed 14 lines in 0.026895 secs.</pre>"
      ],
      "text/plain": [
       "Parsing completed. Parsed 14 lines in 0.026895 secs."
      ]
     },
     "metadata": {},
     "output_type": "display_data"
    },
    {
     "data": {
      "text/html": [
       "<pre>Finished parsing file /home/jovyan/BootMetadata_20190302.csv</pre>"
      ],
      "text/plain": [
       "Finished parsing file /home/jovyan/BootMetadata_20190302.csv"
      ]
     },
     "metadata": {},
     "output_type": "display_data"
    },
    {
     "data": {
      "text/html": [
       "<pre>Parsing completed. Parsed 14 lines in 0.02662 secs.</pre>"
      ],
      "text/plain": [
       "Parsing completed. Parsed 14 lines in 0.02662 secs."
      ]
     },
     "metadata": {},
     "output_type": "display_data"
    }
   ],
   "source": [
    "# Create SFrames\n",
    "metadata = tc.SFrame.read_csv(\"BootMetadata_20190302.csv\")\n",
    "boot_data  = tc.image_analysis.load_images('BootImages')"
   ]
  },
  {
   "cell_type": "code",
   "execution_count": 7,
   "metadata": {},
   "outputs": [],
   "source": [
    "#Join create image_name to merge SFrames\n",
    "boot_data['Image Name'] = boot_data['path'].apply(lambda x: x.split(\"/\")[-2:][1])\n",
    "boot_data = boot_data.join(metadata, on=\"Image Name\", how=\"left\")\n",
    "boot_data = boot_data.add_row_number()"
   ]
  },
  {
   "cell_type": "code",
   "execution_count": 8,
   "metadata": {},
   "outputs": [
    {
     "name": "stdout",
     "output_type": "stream",
     "text": [
      "+----+-------------------------------+--------------------------+\n",
      "| id |              path             |          image           |\n",
      "+----+-------------------------------+--------------------------+\n",
      "| 0  |    BootImages/IMG_3434.JPG    | Height: 3024 Width: 4032 |\n",
      "| 1  |    BootImages/IMG_3435.JPG    | Height: 3024 Width: 4032 |\n",
      "| 2  |   BootImages/black-uggs1.jpg  | Height: 1600 Width: 1376 |\n",
      "| 3  |   BootImages/black-uggs2.jpg  | Height: 1242 Width: 1600 |\n",
      "| 4  |   BootImages/black-uggs3.jpg  | Height: 1214 Width: 1600 |\n",
      "| 5  |  BootImages/dansko-brown1.jpg | Height: 1517 Width: 1126 |\n",
      "| 6  |  BootImages/dansko-brown2.jpg | Height: 1590 Width: 931  |\n",
      "| 7  |  BootImages/dansko-brown3.jpg | Height: 1560 Width: 863  |\n",
      "| 8  | BootImages/frye-brown-canv... | Height: 1600 Width: 1200 |\n",
      "| 9  | BootImages/frye-brown-canv... | Height: 1200 Width: 1600 |\n",
      "| 10 | BootImages/frye-brown-canv... | Height: 1600 Width: 1200 |\n",
      "| 11 |   BootImages/nwob-plume1.jpg  | Height: 1600 Width: 1200 |\n",
      "| 12 |   BootImages/nwob-plume2.jpg  | Height: 1600 Width: 1200 |\n",
      "| 13 |   BootImages/nwob-plume3.jpg  | Height: 1600 Width: 1200 |\n",
      "+----+-------------------------------+--------------------------+\n",
      "+------------------------+-------------------------------+\n",
      "|       Image Name       |          Description          |\n",
      "+------------------------+-------------------------------+\n",
      "|      IMG_3434.JPG      |          Viberg Mens          |\n",
      "|      IMG_3435.JPG      |      Frye Allison Chelsea     |\n",
      "|    black-uggs1.jpg     | UGG Classic Short Black Su... |\n",
      "|    black-uggs2.jpg     | UGG Classic Short Black Su... |\n",
      "|    black-uggs3.jpg     | UGG Classic Short Black Su... |\n",
      "|   dansko-brown1.jpg    |    Dansko Tall Brown Boots    |\n",
      "|   dansko-brown2.jpg    |    Dansko Tall Brown Boots    |\n",
      "|   dansko-brown3.jpg    |    Dansko Tall Brown Boots    |\n",
      "| frye-brown-canvas1.jpg |  Frye Short Canvas Dark Brown |\n",
      "| frye-brown-canvas2.jpg |  Frye Short Canvas Dark Brown |\n",
      "| frye-brown-canvas3.jpg |  Frye Short Canvas Dark Brown |\n",
      "|    nwob-plume1.jpg     |    NWOB Plume by Farylrobin   |\n",
      "|    nwob-plume2.jpg     |    NWOB Plume by Farylrobin   |\n",
      "|    nwob-plume3.jpg     |    NWOB Plume by Farylrobin   |\n",
      "+------------------------+-------------------------------+\n",
      "[14 rows x 5 columns]\n",
      "\n"
     ]
    }
   ],
   "source": [
    "boot_data.print_rows(num_rows=14)"
   ]
  },
  {
   "cell_type": "code",
   "execution_count": 13,
   "metadata": {},
   "outputs": [
    {
     "name": "stdout",
     "output_type": "stream",
     "text": [
      "Performing feature extraction on resized images...\n",
      "Completed 14/14\n"
     ]
    },
    {
     "data": {
      "text/html": [
       "<pre>Starting brute force nearest neighbors model training.</pre>"
      ],
      "text/plain": [
       "Starting brute force nearest neighbors model training."
      ]
     },
     "metadata": {},
     "output_type": "display_data"
    }
   ],
   "source": [
    "model = tc.image_similarity.create(boot_data)"
   ]
  },
  {
   "cell_type": "code",
   "execution_count": 14,
   "metadata": {},
   "outputs": [
    {
     "name": "stdout",
     "output_type": "stream",
     "text": [
      "Performing feature extraction on resized images...\n",
      "Completed 1/1\n"
     ]
    },
    {
     "data": {
      "text/html": [
       "<pre>Starting pairwise querying.</pre>"
      ],
      "text/plain": [
       "Starting pairwise querying."
      ]
     },
     "metadata": {},
     "output_type": "display_data"
    },
    {
     "data": {
      "text/html": [
       "<pre>+--------------+---------+-------------+--------------+</pre>"
      ],
      "text/plain": [
       "+--------------+---------+-------------+--------------+"
      ]
     },
     "metadata": {},
     "output_type": "display_data"
    },
    {
     "data": {
      "text/html": [
       "<pre>| Query points | # Pairs | % Complete. | Elapsed Time |</pre>"
      ],
      "text/plain": [
       "| Query points | # Pairs | % Complete. | Elapsed Time |"
      ]
     },
     "metadata": {},
     "output_type": "display_data"
    },
    {
     "data": {
      "text/html": [
       "<pre>+--------------+---------+-------------+--------------+</pre>"
      ],
      "text/plain": [
       "+--------------+---------+-------------+--------------+"
      ]
     },
     "metadata": {},
     "output_type": "display_data"
    },
    {
     "data": {
      "text/html": [
       "<pre>| 0            | 1       | 7.14286     | 521us        |</pre>"
      ],
      "text/plain": [
       "| 0            | 1       | 7.14286     | 521us        |"
      ]
     },
     "metadata": {},
     "output_type": "display_data"
    },
    {
     "data": {
      "text/html": [
       "<pre>| Done         |         | 100         | 2.431ms      |</pre>"
      ],
      "text/plain": [
       "| Done         |         | 100         | 2.431ms      |"
      ]
     },
     "metadata": {},
     "output_type": "display_data"
    },
    {
     "data": {
      "text/html": [
       "<pre>+--------------+---------+-------------+--------------+</pre>"
      ],
      "text/plain": [
       "+--------------+---------+-------------+--------------+"
      ]
     },
     "metadata": {},
     "output_type": "display_data"
    },
    {
     "data": {
      "text/html": [
       "<div style=\"max-height:1000px;max-width:1500px;overflow:auto;\"><table frame=\"box\" rules=\"cols\">\n",
       "    <tr>\n",
       "        <th style=\"padding-left: 1em; padding-right: 1em; text-align: center\">query_label</th>\n",
       "        <th style=\"padding-left: 1em; padding-right: 1em; text-align: center\">reference_label</th>\n",
       "        <th style=\"padding-left: 1em; padding-right: 1em; text-align: center\">distance</th>\n",
       "        <th style=\"padding-left: 1em; padding-right: 1em; text-align: center\">rank</th>\n",
       "    </tr>\n",
       "    <tr>\n",
       "        <td style=\"padding-left: 1em; padding-right: 1em; text-align: center; vertical-align: top\">0</td>\n",
       "        <td style=\"padding-left: 1em; padding-right: 1em; text-align: center; vertical-align: top\">4</td>\n",
       "        <td style=\"padding-left: 1em; padding-right: 1em; text-align: center; vertical-align: top\">20.709052062663655</td>\n",
       "        <td style=\"padding-left: 1em; padding-right: 1em; text-align: center; vertical-align: top\">1</td>\n",
       "    </tr>\n",
       "    <tr>\n",
       "        <td style=\"padding-left: 1em; padding-right: 1em; text-align: center; vertical-align: top\">0</td>\n",
       "        <td style=\"padding-left: 1em; padding-right: 1em; text-align: center; vertical-align: top\">5</td>\n",
       "        <td style=\"padding-left: 1em; padding-right: 1em; text-align: center; vertical-align: top\">21.351998834623366</td>\n",
       "        <td style=\"padding-left: 1em; padding-right: 1em; text-align: center; vertical-align: top\">2</td>\n",
       "    </tr>\n",
       "    <tr>\n",
       "        <td style=\"padding-left: 1em; padding-right: 1em; text-align: center; vertical-align: top\">0</td>\n",
       "        <td style=\"padding-left: 1em; padding-right: 1em; text-align: center; vertical-align: top\">6</td>\n",
       "        <td style=\"padding-left: 1em; padding-right: 1em; text-align: center; vertical-align: top\">21.739325560663943</td>\n",
       "        <td style=\"padding-left: 1em; padding-right: 1em; text-align: center; vertical-align: top\">3</td>\n",
       "    </tr>\n",
       "    <tr>\n",
       "        <td style=\"padding-left: 1em; padding-right: 1em; text-align: center; vertical-align: top\">0</td>\n",
       "        <td style=\"padding-left: 1em; padding-right: 1em; text-align: center; vertical-align: top\">0</td>\n",
       "        <td style=\"padding-left: 1em; padding-right: 1em; text-align: center; vertical-align: top\">22.293770252521295</td>\n",
       "        <td style=\"padding-left: 1em; padding-right: 1em; text-align: center; vertical-align: top\">4</td>\n",
       "    </tr>\n",
       "    <tr>\n",
       "        <td style=\"padding-left: 1em; padding-right: 1em; text-align: center; vertical-align: top\">0</td>\n",
       "        <td style=\"padding-left: 1em; padding-right: 1em; text-align: center; vertical-align: top\">13</td>\n",
       "        <td style=\"padding-left: 1em; padding-right: 1em; text-align: center; vertical-align: top\">22.751146944450532</td>\n",
       "        <td style=\"padding-left: 1em; padding-right: 1em; text-align: center; vertical-align: top\">5</td>\n",
       "    </tr>\n",
       "</table>\n",
       "[5 rows x 4 columns]<br/>\n",
       "</div>"
      ],
      "text/plain": [
       "Columns:\n",
       "\tquery_label\tint\n",
       "\treference_label\tint\n",
       "\tdistance\tfloat\n",
       "\trank\tint\n",
       "\n",
       "Rows: 5\n",
       "\n",
       "Data:\n",
       "+-------------+-----------------+--------------------+------+\n",
       "| query_label | reference_label |      distance      | rank |\n",
       "+-------------+-----------------+--------------------+------+\n",
       "|      0      |        4        | 20.709052062663655 |  1   |\n",
       "|      0      |        5        | 21.351998834623366 |  2   |\n",
       "|      0      |        6        | 21.739325560663943 |  3   |\n",
       "|      0      |        0        | 22.293770252521295 |  4   |\n",
       "|      0      |        13       | 22.751146944450532 |  5   |\n",
       "+-------------+-----------------+--------------------+------+\n",
       "[5 rows x 4 columns]"
      ]
     },
     "execution_count": 14,
     "metadata": {},
     "output_type": "execute_result"
    }
   ],
   "source": [
    "img = tc.Image(\"IMG_3436.JPG\")\n",
    "model.query(img)"
   ]
  },
  {
   "cell_type": "code",
   "execution_count": 15,
   "metadata": {},
   "outputs": [
    {
     "name": "stdout",
     "output_type": "stream",
     "text": [
      "2019-03-02 17:19:41,795 - skafossdk.asset_manager - INFO - Connecting to AssetEngine\n",
      "2019-03-02 17:19:41,959 - skafossdk.asset_manager - INFO - AssetManager Connection Opened\n"
     ]
    },
    {
     "data": {
      "text/plain": [
       "<Request at 0x7f6c201e9c50 request_id=0f187784-b0f7-41df-990d-4cd397bbfce5 status=running time=2.3009410559898242>"
      ]
     },
     "execution_count": 15,
     "metadata": {},
     "output_type": "execute_result"
    },
    {
     "name": "stdout",
     "output_type": "stream",
     "text": [
      "asset_name: ImageSimilarity\n",
      "normalized_name: imagesimilarity\n",
      "filename: imagesimilarity-1551547194256.zip\n",
      "version: 1551547194256\n",
      "tags: ['latest']\n",
      "project_token: b651d71134e086a2f7172a38\n",
      "deployment_id: cc13d077-d454-4b6e-a607-878a1a351874\n",
      "job_id: \n",
      "access: public\n",
      "hash: \n",
      "inserted_at: 2019-03-02 17:19:58.399\n",
      "updated_at: 2019-03-02 17:19:58.399\n",
      "metadata: \n"
     ]
    }
   ],
   "source": [
    "# Specify the CoreML model name\n",
    "model_name = 'ImageSimilarity'\n",
    "coreml_model_name = model_name + '.mlmodel'\n",
    "\n",
    "# Export the trained model to CoreML format\n",
    "res = model.export_coreml(coreml_model_name) \n",
    "\n",
    "# Use coremltools to convert model weights to half-precision.\n",
    "# This may be necessary if you have memory concerns within your app\n",
    "#model_spec = coremltools.utils.load_spec(coreml_model_name)\n",
    "#model_fp16_spec = coremltools.utils.convert_neural_network_spec_weights_to_fp16(model_spec)\n",
    "#coremltools.utils.save_spec(model_fp16_spec, coreml_model_name)\n",
    "\n",
    "# Save model asset to Skafos\n",
    "ska.asset_manager.save(\n",
    "    name=model_name,              # Name used to load or deliver asset, also used within the Swift SDK.\n",
    "    files=coreml_model_name,      # File or list of files to bundle together as a versioned asset.\n",
    "    tags=['latest'],              # User-defined tags to help distinguish your asset.\n",
    "    access='public'               # Asset access- public/private.\n",
    ")"
   ]
  },
  {
   "cell_type": "code",
   "execution_count": 16,
   "metadata": {},
   "outputs": [
    {
     "data": {
      "text/plain": [
       "<Request at 0x7f6c201d6048 request_id=3dbafaa1-fec1-4f5f-868e-d7feb1ae5163 status=running time=0.00597566700889729>"
      ]
     },
     "execution_count": 16,
     "metadata": {},
     "output_type": "execute_result"
    },
    {
     "name": "stdout",
     "output_type": "stream",
     "text": [
      "2019-03-02 17:20:05,837 - skafossdk.asset_manager - INFO - request_id: \"3dbafaa1-fec1-4f5f-868e-d7feb1ae5163\"\n",
      "ref_type: \"result\"\n",
      "result: \"{\\\"io.skafos.BootFinder\\\":{\\\"success\\\":\\\"Successfully pushed 682\\\"}}\"\n",
      "\n"
     ]
    }
   ],
   "source": [
    "# Deliver asset to devices (push)\n",
    "ska.asset_manager.deliver(\n",
    "  name=model_name,                # Name used to load or deliver asset, also used within the Swift SDK.\n",
    "  tag='latest',                   # User-defined tags to help distinguish your asset.\n",
    "  dev=True                        # Push asset through Apple's APNS dev or prod server\n",
    ")"
   ]
  },
  {
   "cell_type": "code",
   "execution_count": null,
   "metadata": {},
   "outputs": [],
   "source": []
  }
 ],
 "metadata": {
  "kernelspec": {
   "display_name": "Python 3",
   "language": "python",
   "name": "python3"
  },
  "language_info": {
   "codemirror_mode": {
    "name": "ipython",
    "version": 3
   },
   "file_extension": ".py",
   "mimetype": "text/x-python",
   "name": "python",
   "nbconvert_exporter": "python",
   "pygments_lexer": "ipython3",
   "version": "3.6.5"
  }
 },
 "nbformat": 4,
 "nbformat_minor": 2
}
