{
 "cells": [
  {
   "cell_type": "markdown",
   "metadata": {},
   "source": [
    "### Boot Finder "
   ]
  },
  {
   "cell_type": "code",
   "execution_count": null,
   "metadata": {},
   "outputs": [],
   "source": [
    "# If this is your first time in the JupyterLab workspace - install external dependencies\n",
    "from utilities.dependencies import install\n",
    "install(timeout=500)\n",
    "\n",
    "# No need to do this in the future for this notebook"
   ]
  },
  {
   "cell_type": "code",
   "execution_count": null,
   "metadata": {},
   "outputs": [],
   "source": [
    "# Import necessary libraries\n",
    "import os\n",
    "import urllib\n",
    "\n",
    "import coremltools \n",
    "from skafossdk import *\n",
    "import turicreate as tc\n",
    "import pandas as pd\n",
    "import numpy as np\n",
    "from s3fs.core import S3FileSystem"
   ]
  },
  {
   "cell_type": "code",
   "execution_count": null,
   "metadata": {},
   "outputs": [],
   "source": [
    "# Initialize Skafos\n",
    "ska = Skafos()"
   ]
  },
  {
   "cell_type": "code",
   "execution_count": null,
   "metadata": {},
   "outputs": [],
   "source": [
    "#Pull in boot images from S3 \n",
    "_local_dir = 'BootImages'\n",
    "\n",
    "if not os.path.exists(_local_dir):\n",
    "    os.makedirs(_local_dir)\n",
    "\n",
    "# Connect to S3\n",
    "s3 = S3FileSystem(anon=True)\n",
    "\n",
    "# Bring in boot data\n",
    "boots = s3.ls(\"s3://mf.testing.bucket/Boots/Images/\")\n",
    "        \n",
    "# Loop over the image paths, adding them to the SFrames\n",
    "for b in boots: \n",
    "    _local_file = \"/\".join(b.split(\"/\")[-1:])\n",
    "    _local_path = _local_dir + \"/\" + _local_file\n",
    "    s3.get(\"s3://\" + b, _local_path) # download the image"
   ]
  },
  {
   "cell_type": "code",
   "execution_count": null,
   "metadata": {},
   "outputs": [],
   "source": [
    "# Pull in boot metadata from S3\n",
    "csv = \"s3://mf.testing.bucket/Boots/BootMetadata_20190302.csv\"\n",
    "print(\"/\".join(csv.split(\"/\")[-1:]))\n",
    "s3.get(csv, \"/\".join(csv.split(\"/\")[-1:]))"
   ]
  },
  {
   "cell_type": "code",
   "execution_count": null,
   "metadata": {},
   "outputs": [],
   "source": [
    "# Pull in F21 json boot data and metadata\n",
    "json_path = \"s3://mf.testing.bucket/Boots/F21_shoes.json\"\n",
    "df = pd.read_json(json_path)\n",
    "components = pd.DataFrame.from_dict(df.iloc[8].body)\n",
    "F21_meta = pd.DataFrame.from_records(components.docs)\n",
    "F21_meta['path'] = F21_meta['thumb_image'].apply(lambda x: 'BootImages/' + x.split(\"/\")[-2:][1])\n",
    "\n",
    "for index, row in F21_meta.iterrows():\n",
    "    urllib.request.urlretrieve(row['thumb_image'], row['path'])\n",
    "    \n",
    "F21_meta = F21_meta.rename(index=str, columns={'title': 'Description'})\n",
    "F21_meta['Image Name'] = F21_meta['path'].apply(lambda x: x.split(\"/\")[-2:][1])"
   ]
  },
  {
   "cell_type": "code",
   "execution_count": null,
   "metadata": {},
   "outputs": [],
   "source": [
    "# Pull in ebay boot data and metadata\n",
    "json_path = \"s3://mf.testing.bucket/Boots/ebay_boots.json\"\n",
    "df = pd.read_json(json_path)\n",
    "components_df = pd.DataFrame.from_records(df.itemSummaries)\n",
    "\n",
    "ebay_metadata = pd.DataFrame()\n",
    "ebay_metadata['thumb_image'] = pd.DataFrame.from_records(components_df.image)['imageUrl']\n",
    "ebay_metadata['price'] = pd.DataFrame.from_records(components_df.price)['value'].astype(float)\n",
    "ebay_metadata['url'] = components_df.itemWebUrl\n",
    "ebay_metadata['Description'] = components_df.title\n",
    "ebay_metadata['path'] = ebay_metadata['thumb_image'].apply(lambda x: 'BootImages/' + x.split(\"/\")[-2] + x.split(\"/\")[-1])\n",
    "ebay_metadata['Image Name'] = ebay_metadata['thumb_image'].apply(lambda x: x.split(\"/\")[-2] + x.split(\"/\")[-1])\n",
    "\n",
    "for index, row in ebay_metadata.iterrows():\n",
    "    urllib.request.urlretrieve(row['thumb_image'], row['path'])"
   ]
  },
  {
   "cell_type": "code",
   "execution_count": null,
   "metadata": {},
   "outputs": [],
   "source": [
    "# Combine F21 and ebay metadata\n",
    "meta_combined = pd.merge(F21_meta, ebay_metadata, \n",
    "                         on=['Image Name','path', 'Description', 'url', 'price', 'thumb_image'], how='outer')"
   ]
  },
  {
   "cell_type": "code",
   "execution_count": null,
   "metadata": {},
   "outputs": [],
   "source": [
    "# Combine metadata\n",
    "meta_combined = meta_combined.astype(str).replace(np.nan, 'None')\n",
    "meta_combined_sframe = tc.SFrame(meta_combined)\n",
    "metadata = tc.SFrame.read_csv(\"BootMetadata_20190302.csv\")\n",
    "metadata['path'] = metadata['Image Name'].apply(lambda x: 'BootImages/' + x)\n",
    "metadata = metadata.join(meta_combined_sframe, on=[\"Image Name\", \"Description\", \"path\"], how=\"outer\")"
   ]
  },
  {
   "cell_type": "code",
   "execution_count": null,
   "metadata": {},
   "outputs": [],
   "source": [
    "# Create boot SFrame\n",
    "boot_data  = tc.image_analysis.load_images('BootImages')"
   ]
  },
  {
   "cell_type": "code",
   "execution_count": null,
   "metadata": {},
   "outputs": [],
   "source": [
    "metadata.export_csv(\"AllMetadata.csv\")"
   ]
  },
  {
   "cell_type": "code",
   "execution_count": null,
   "metadata": {},
   "outputs": [],
   "source": [
    "#Join create image_name to merge SFrames\n",
    "boot_data['Image Name'] = boot_data['path'].apply(lambda x: x.split(\"/\")[-2:][1])\n",
    "boot_data = boot_data.join(metadata, on=[\"Image Name\", \"path\"], how=\"left\")\n",
    "boot_data = boot_data.add_row_number()"
   ]
  },
  {
   "cell_type": "code",
   "execution_count": null,
   "metadata": {},
   "outputs": [],
   "source": [
    "boot_data.shape"
   ]
  },
  {
   "cell_type": "code",
   "execution_count": null,
   "metadata": {},
   "outputs": [],
   "source": [
    "model = tc.image_similarity.create(boot_data, label=\"Description\")"
   ]
  },
  {
   "cell_type": "code",
   "execution_count": null,
   "metadata": {},
   "outputs": [],
   "source": [
    "img = tc.Image(\"IMG_3436.JPG\")\n",
    "model.query(img)"
   ]
  },
  {
   "cell_type": "code",
   "execution_count": null,
   "metadata": {},
   "outputs": [],
   "source": [
    "# Specify the CoreML model name\n",
    "model_name = 'ImageSimilarity'\n",
    "coreml_model_name = model_name + '.mlmodel'\n",
    "\n",
    "# Export the trained model to CoreML format\n",
    "res = model.export_coreml(coreml_model_name) \n",
    "\n",
    "# Use coremltools to convert model weights to half-precision.\n",
    "# This may be necessary if you have memory concerns within your app\n",
    "#model_spec = coremltools.utils.load_spec(coreml_model_name)\n",
    "#model_fp16_spec = coremltools.utils.convert_neural_network_spec_weights_to_fp16(model_spec)\n",
    "#coremltools.utils.save_spec(model_fp16_spec, coreml_model_name)\n",
    "\n",
    "# Save model asset to Skafos\n",
    "ska.asset_manager.save(\n",
    "    name=model_name,              # Name used to load or deliver asset, also used within the Swift SDK.\n",
    "    files=coreml_model_name,      # File or list of files to bundle together as a versioned asset.\n",
    "    tags=['latest'],              # User-defined tags to help distinguish your asset.\n",
    "    access='public'               # Asset access- public/private.\n",
    ")"
   ]
  },
  {
   "cell_type": "code",
   "execution_count": null,
   "metadata": {},
   "outputs": [],
   "source": [
    "# Deliver asset to devices (push)\n",
    "ska.asset_manager.deliver(\n",
    "  name=model_name,                # Name used to load or deliver asset, also used within the Swift SDK.\n",
    "  tag='latest',                   # User-defined tags to help distinguish your asset.\n",
    "  dev=True                        # Push asset through Apple's APNS dev or prod server\n",
    ")"
   ]
  },
  {
   "cell_type": "code",
   "execution_count": null,
   "metadata": {},
   "outputs": [],
   "source": []
  }
 ],
 "metadata": {
  "kernelspec": {
   "display_name": "Python 3",
   "language": "python",
   "name": "python3"
  },
  "language_info": {
   "codemirror_mode": {
    "name": "ipython",
    "version": 3
   },
   "file_extension": ".py",
   "mimetype": "text/x-python",
   "name": "python",
   "nbconvert_exporter": "python",
   "pygments_lexer": "ipython3",
   "version": "3.6.5"
  }
 },
 "nbformat": 4,
 "nbformat_minor": 2
}
