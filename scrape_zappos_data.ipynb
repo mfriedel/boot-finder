{
  "nbformat": 4,
  "nbformat_minor": 0,
  "metadata": {
    "colab": {
      "name": "scrape_zappos_data.ipynb",
      "version": "0.3.2",
      "provenance": [],
      "collapsed_sections": []
    },
    "language_info": {
      "codemirror_mode": {
        "name": "ipython",
        "version": 3
      },
      "file_extension": ".py",
      "mimetype": "text/x-python",
      "name": "python",
      "nbconvert_exporter": "python",
      "pygments_lexer": "ipython3",
      "version": "3.6.5"
    },
    "kernelspec": {
      "display_name": "Python 3",
      "language": "python",
      "name": "python3"
    }
  },
  "cells": [
    {
      "cell_type": "code",
      "metadata": {
        "id": "Iio1_sxMWXzH",
        "colab_type": "code",
        "colab": {
          "base_uri": "https://localhost:8080/",
          "height": 34
        },
        "outputId": "458aa0b9-f682-48e4-87f1-26de3a45c35e"
      },
      "source": [
        "# Web scraping test\n",
        "! pip install BeautifulSoup4 s3fs requests tqdm"
      ],
      "execution_count": 1,
      "outputs": [
        {
          "output_type": "stream",
          "text": [
            "Requirement already satisfied: BeautifulSoup4 in /usr/local/lib/python3.6/dist-packages (4.6.3)\n"
          ],
          "name": "stdout"
        }
      ]
    },
    {
      "cell_type": "code",
      "metadata": {
        "id": "JZ4CdpxwWXzK",
        "colab_type": "code",
        "colab": {}
      },
      "source": [
        "# import libraries\n",
        "import os\n",
        "import re\n",
        "import json\n",
        "import s3fs\n",
        "from datetime import datetime\n",
        "import tqdm\n",
        "import urllib\n",
        "import requests\n",
        "from bs4 import BeautifulSoup"
      ],
      "execution_count": 0,
      "outputs": []
    },
    {
      "cell_type": "code",
      "metadata": {
        "id": "L8SZltv5WXzQ",
        "colab_type": "code",
        "colab": {}
      },
      "source": [
        "# Parse data based on the structure of the page\n",
        "# We are going to create a dictionary that we will then write to a json file\n",
        "# Each dictionary key will be the name of the image\n",
        "\n",
        "# Note the following constructs: \n",
        "\n",
        "data_dict = {}\n",
        "base_url = 'https://www.zappos.com/women-boots/CK_XARCz1wHAAQHiAgMBAhg.zso'\n",
        "n = 1\n",
        "\n",
        "while True:\n",
        "  url = base_url + \"?p={}\".format(n)\n",
        "  page = urllib.request.urlopen(url)\n",
        "  soup = BeautifulSoup(page, 'html.parser')\n",
        "  all_links = soup.find_all('a')\n",
        "  link_count = len(all_links)\n",
        "  l = 0\n",
        "  # Process data\n",
        "  for link in all_links:\n",
        "    aria_label = link.get('aria-label')\n",
        "    if aria_label and link.img:\n",
        "      # Sort to make sure that what we get back has a price, ensuring it is a boot we want to include\n",
        "      if aria_label.find('$') != -1:\n",
        "        l += 1\n",
        "        key = link.img['src'].split('/')[-1] # Use the image name as the key\n",
        "        rating = re.search(\"Rated (.*?)\\.\", aria_label)\n",
        "        if rating:\n",
        "          rating = rating.group(1)\n",
        "\n",
        "        data_dict[key] = {\n",
        "            'shoe_name': aria_label.split('. By')[0],\n",
        "            'brand': re.search(\"By (.*?) \\$\", aria_label).group(1).strip('.'),\n",
        "            'price': \"$\" + re.search(\"\\$(.*?) \", aria_label).group(1).strip('.'),\n",
        "            'style': re.search(\"Style: (.*?)\\.\", aria_label).group(1),\n",
        "            'rating': rating, \n",
        "            'image_source': link.img['src']\n",
        "        }\n",
        "  if l == 0:\n",
        "    break\n",
        "\n",
        "  n += 1\n"
      ],
      "execution_count": 0,
      "outputs": []
    },
    {
      "cell_type": "code",
      "metadata": {
        "id": "rOpczZX4bqNa",
        "colab_type": "code",
        "colab": {}
      },
      "source": [
        "# Connect to s3 and upload the things\n",
        "\n",
        "s3 = s3fs.S3FileSystem(anon=False)\n",
        "bucket = \"skafos.bootfinder/\"\n",
        "dataset = datetime.now().strftime(\"%Y%m%d%H%M%S\")\n",
        "img_path = '/boot_images/'\n",
        "meta = 'boots_meta_data.json'"
      ],
      "execution_count": 0,
      "outputs": []
    },
    {
      "cell_type": "code",
      "metadata": {
        "id": "ObX0VjjQhF4x",
        "colab_type": "code",
        "colab": {}
      },
      "source": [
        "# write the meta data dictionary\n",
        "with s3.open(bucket + dataset + '/' + meta, 'w') as f:\n",
        "  f.write(json.dumps(data_dict))"
      ],
      "execution_count": 0,
      "outputs": []
    },
    {
      "cell_type": "code",
      "metadata": {
        "id": "3mi-9D8HeKgD",
        "colab_type": "code",
        "colab": {}
      },
      "source": [
        "# collect and write images\n",
        "for k, v in data_dict.items():\n",
        "  with s3.open(bucket + dataset + img_path + k, 'wb') as f:\n",
        "    f.write(requests.get(v['image_source']).content)"
      ],
      "execution_count": 0,
      "outputs": []
    }
  ]
}