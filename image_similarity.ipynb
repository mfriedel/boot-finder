{
 "cells": [
  {
   "cell_type": "markdown",
   "metadata": {},
   "source": [
    "## **Turi Image Similarity**\n",
    "Welcome to the image similarit model quickstart on Skafos! The purpose of this notebook is to get you going end-to-end. Below we will do the following:\n",
    "\n",
    "- Load images for 101 different categories from Caltech's website\n",
    "- Build an image similarity model.\n",
    "- Convert the model to CoreML format and save it to the Skafos framework.\n",
    "\n",
    "The example is based on [Turi Create's Image Similarity example](https://apple.github.io/turicreate/docs/userguide/image_similarity/).\n",
    "\n",
    "--- \n",
    "\n",
    "Execute each cell one-by-one, by selecting the cell and do one of the following:\n",
    "\n",
    "- Clicking the \"play\" button at the top of this frame.\n",
    "- Typing 'Control + Enter' or 'Shift + Enter'."
   ]
  },
  {
   "cell_type": "code",
   "execution_count": null,
   "metadata": {},
   "outputs": [],
   "source": [
    "# If this is your first time in the JupyterLab workspace - install external dependencies\n",
    "from utilities.dependencies import install\n",
    "install(timeout=500)\n",
    "\n",
    "# No need to do this in the future for this notebook"
   ]
  },
  {
   "cell_type": "code",
   "execution_count": null,
   "metadata": {},
   "outputs": [],
   "source": [
    "# Import necessary libraries\n",
    "import urllib\n",
    "import tarfile\n",
    "\n",
    "import coremltools \n",
    "from skafossdk import *\n",
    "import turicreate as tc"
   ]
  },
  {
   "cell_type": "code",
   "execution_count": null,
   "metadata": {},
   "outputs": [],
   "source": [
    "# Initialize Skafos\n",
    "ska = Skafos()"
   ]
  },
  {
   "cell_type": "markdown",
   "metadata": {},
   "source": [
    "### 1. **Load the data**\n",
    "The training data loaded below comes compressed from the [Computer Vision dept. at Caltech](http://www.vision.caltech.edu/Image_Datasets/Caltech101/Caltech101.html).  The training data for this example are 9,145 images from 101 different categories.  First, we need to unzip and extract the images.  We then add row numbers to the data set such that we can reference images later when we need to query the model for similar images."
   ]
  },
  {
   "cell_type": "code",
   "execution_count": null,
   "metadata": {},
   "outputs": [],
   "source": [
    "# Specify where to pull images from and local path name\n",
    "data_url = \"http://www.vision.caltech.edu/Image_Datasets/Caltech101/101_ObjectCategories.tar.gz\";\n",
    "data_path = \"101_ObjectCategories.tar.gz\" # specify output path name\n",
    "\n",
    "# Fetch training data from Caltech's website and extract the contents.\n",
    "retrieve = urllib.request.urlretrieve(data_url, data_path)\n",
    "tar = tarfile.open(data_path, \"r:gz\")\n",
    "tar.extractall()\n",
    "tar.close()\n",
    "\n",
    "# Load the data into a Turi Create SFrame\n",
    "reference_data  = tc.image_analysis.load_images('./101_ObjectCategories')\n",
    "reference_data = reference_data.add_row_number() # add a row number to the data set"
   ]
  },
  {
   "cell_type": "code",
   "execution_count": null,
   "metadata": {},
   "outputs": [],
   "source": [
    "reference_data.head()"
   ]
  },
  {
   "cell_type": "markdown",
   "metadata": {},
   "source": [
    "### 2. **Build the model**\n",
    "We use the `tc.image_similarity.create` function and specify the data. We also pass None to the label argument, which tells the function to use the row number of each image as the label. This becomes important when you want to query the model for similar images later on. To understand more about this specific function, check out the [Turi Create Documentation](https://apple.github.io/turicreate/docs/api/generated/turicreate.image_similarity.create.html).\n",
    "\n",
    "\n",
    "**Note: GPU support is coming soon. The code below has been commented out because it will take a long time (~1 day) to train with CPUs. Additionally, if you don't update the training dataset, it will re-create the baseline image similarity model from the integration guide on the Skafos dashboard.**"
   ]
  },
  {
   "cell_type": "code",
   "execution_count": null,
   "metadata": {},
   "outputs": [],
   "source": [
    "# Train an image similarity model. With label=None, the model uses row numbers to identify images when the model is queried.\n",
    "#model = tc.image_similarity.create(reference_data, label=None)"
   ]
  },
  {
   "cell_type": "markdown",
   "metadata": {},
   "source": [
    "### 3. **Deliver the model**\n",
    "Once your model has been created, it must be converted to CoreML and saved to the Skafos framework. Once saved, if you wish to push to your iOS devices, you can use the `.deliver()` method below. We've left that commented out for now."
   ]
  },
  {
   "cell_type": "code",
   "execution_count": null,
   "metadata": {},
   "outputs": [],
   "source": [
    "# Specify the CoreML model name\n",
    "model_name = 'ImageSimilarity'\n",
    "coreml_model_name = model_name + '.mlmodel'\n",
    "\n",
    "# Export the trained model to CoreML format\n",
    "res = model.export_coreml(coreml_model_name) \n",
    "\n",
    "# Use coremltools to convert model weights to half-precision.\n",
    "# This may be necessary if you have memory concerns within your app\n",
    "#model_spec = coremltools.utils.load_spec(coreml_model_name)\n",
    "#model_fp16_spec = coremltools.utils.convert_neural_network_spec_weights_to_fp16(model_spec)\n",
    "#coremltools.utils.save_spec(model_fp16_spec, coreml_model_name)\n",
    "\n",
    "# Save model asset to Skafos\n",
    "ska.asset_manager.save(\n",
    "    name=model_name,              # Name used to load or deliver asset, also used within the Swift SDK.\n",
    "    files=coreml_model_name,      # File or list of files to bundle together as a versioned asset.\n",
    "    tags=['latest'],              # User-defined tags to help distinguish your asset.\n",
    "    access='public'               # Asset access- public/private.\n",
    ")"
   ]
  },
  {
   "cell_type": "code",
   "execution_count": null,
   "metadata": {},
   "outputs": [],
   "source": [
    "# Deliver asset to devices (push)\n",
    "#ska.asset_manager.deliver(\n",
    "#  name=model_name,                # Name used to load or deliver asset, also used within the Swift SDK.\n",
    "#  tag='latest',                   # User-defined tags to help distinguish your asset.\n",
    "#  dev=True                        # Push asset through Apple's APNS dev or prod server\n",
    "#)"
   ]
  }
 ],
 "metadata": {
  "kernelspec": {
   "display_name": "Python 3",
   "language": "python",
   "name": "python3"
  },
  "language_info": {
   "codemirror_mode": {
    "name": "ipython",
    "version": 3
   },
   "file_extension": ".py",
   "mimetype": "text/x-python",
   "name": "python",
   "nbconvert_exporter": "python",
   "pygments_lexer": "ipython3",
   "version": "3.6.5"
  }
 },
 "nbformat": 4,
 "nbformat_minor": 2
}
